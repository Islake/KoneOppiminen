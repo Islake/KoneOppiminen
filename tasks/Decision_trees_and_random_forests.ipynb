{
 "cells": [
  {
   "cell_type": "code",
   "execution_count": 201,
   "metadata": {
    "collapsed": true,
    "ExecuteTime": {
     "end_time": "2025-01-31T14:29:44.776440Z",
     "start_time": "2025-01-31T14:29:44.747862Z"
    }
   },
   "outputs": [],
   "source": [
    "import pandas as pd\n",
    "import numpy as np\n",
    "import matplotlib.pyplot as plt\n",
    "from sklearn.neighbors import KNeighborsClassifier\n",
    "from ucimlrepo import fetch_ucirepo\n",
    "from sklearn.model_selection import train_test_split\n",
    "from sklearn.metrics import accuracy_score, confusion_matrix, precision_score, recall_score, classification_report\n"
   ]
  },
  {
   "cell_type": "markdown",
   "source": [
    "# CRISP\n",
    "## Business understanding:\n",
    "- The first phase is to understand the business problem that needs to be solved.\n",
    "- What is the goal of the analysis?\n",
    "- What are the requirements and constraints? What is the expected outcome?\n",
    "\n",
    "## Data understanding:\n",
    " - The second phase is to collect and explore the data.\n",
    " - What data is available?\n",
    " - What are the characteristics of the data (variable types, value distributions etc.)?\n",
    " - Are there any quality issues with the data (missing values, outliers, nonsensical values)?\n",
    "\n",
    "## Data preparation:\n",
    " - The third phase is to preprocess the data.\n",
    " - This includes cleaning the data, transforming the data, and selecting the relevant features.\n",
    " - These steps should be documented in such detail that they can be reproduced later.\n",
    "\n",
    "## Modeling:\n",
    " - The fourth phase is to choose a machine learning method and train the model.\n",
    " - This phase also includes the validation of the model.\n",
    " - Documentation needs include:\n",
    "   - which method was used, which parameters were used, what was the performance of the model?\n",
    "\n",
    "## Evaluation:\n",
    " - The fifth phase is to evaluate the model.\n",
    " - How well does the model perform?\n",
    " - Does it meet the business requirements?\n",
    "\n",
    "## Deployment:\n",
    " - The final phase is to deploy the model.\n",
    " - How will the model be used in practice?\n",
    " - How will the results be communicated?\n",
    " - This phase may involve creating a recommendation of how to use the model in practice, or what to do next.\n"
   ],
   "metadata": {
    "collapsed": false
   }
  },
  {
   "cell_type": "markdown",
   "source": [
    "## Phase 1: Business Understanding\n",
    "- The goal is to reliably predict if website is a phishing site based on the information about the site using UCI Machine Learning Repository: Phishing Websites Data Set."
   ],
   "metadata": {
    "collapsed": false
   }
  },
  {
   "cell_type": "markdown",
   "source": [
    "## Phase 2: Data understanding\n"
   ],
   "metadata": {
    "collapsed": false
   }
  },
  {
   "cell_type": "code",
   "outputs": [
    {
     "name": "stdout",
     "output_type": "stream",
     "text": [
      "0              having_ip_address\n",
      "1                     url_length\n",
      "2             shortining_service\n",
      "3               having_at_symbol\n",
      "4       double_slash_redirecting\n",
      "5                  prefix_suffix\n",
      "6              having_sub_domain\n",
      "7                 sslfinal_state\n",
      "8     domain_registration_length\n",
      "9                        favicon\n",
      "10                          port\n",
      "11                   https_token\n",
      "12                   request_url\n",
      "13                 url_of_anchor\n",
      "14                 links_in_tags\n",
      "15                           sfh\n",
      "16           submitting_to_email\n",
      "17                  abnormal_url\n",
      "18                      redirect\n",
      "19                  on_mouseover\n",
      "20                    rightclick\n",
      "21                   popupwindow\n",
      "22                        iframe\n",
      "23                 age_of_domain\n",
      "24                     dnsrecord\n",
      "25                   web_traffic\n",
      "26                     page_rank\n",
      "27                  google_index\n",
      "28        links_pointing_to_page\n",
      "29            statistical_report\n",
      "30                        result\n",
      "Name: name, dtype: object\n"
     ]
    }
   ],
   "source": [
    "from ucimlrepo import fetch_ucirepo\n",
    "\n",
    "# fetch dataset\n",
    "phishing_websites = fetch_ucirepo(id=327)\n",
    "\n",
    "# data (as pandas dataframes)\n",
    "X = phishing_websites.data.features\n",
    "y = phishing_websites.data.targets\n",
    "\n",
    "print(phishing_websites.variables.name)"
   ],
   "metadata": {
    "collapsed": false,
    "ExecuteTime": {
     "end_time": "2025-01-31T14:29:47.993946Z",
     "start_time": "2025-01-31T14:29:44.778004Z"
    }
   },
   "execution_count": 202
  },
  {
   "cell_type": "markdown",
   "source": [],
   "metadata": {
    "collapsed": false
   }
  },
  {
   "cell_type": "markdown",
   "source": [
    "## Phase 3: Data Preparation\n",
    "\n",
    "The third phase is to preprocess the data. We remove missing values and transform categorical variables into numeric form to make the dataset ready for machine learning models.\n",
    "\n",
    "By removing missing values to ensures that we work only with complete data.\n",
    "\n",
    "By selecting relevant features, we improve model performance, reduce overfitting, and make the model easier to interpret.\n",
    "\n",
    "\n",
    " By selecting relevant features, we improve model performance, reduce overfitting, and make the model easier to interpret."
   ],
   "metadata": {
    "collapsed": false
   }
  },
  {
   "cell_type": "markdown",
   "source": [
    "### Steps \n",
    "\n",
    "#### Removing Missing Values:\n",
    "\n",
    "Using `dropna()` from Pandas. This ensures that we work only with complete data."
   ],
   "metadata": {
    "collapsed": false
   }
  },
  {
   "cell_type": "code",
   "outputs": [],
   "source": [
    "# Data Cleaning\n",
    "# - Remove missing values to ensure data consistency\n",
    "X = X.dropna()  # Remove rows with missing values\n"
   ],
   "metadata": {
    "collapsed": false,
    "ExecuteTime": {
     "end_time": "2025-01-31T14:29:47.996914Z",
     "start_time": "2025-01-31T14:29:47.992512Z"
    }
   },
   "execution_count": 203
  },
  {
   "cell_type": "markdown",
   "source": [
    "Transforming Target Column (`y`): use the `replace()` method in Pandas to replace `-1` with `0` and leave `1` unchanged."
   ],
   "metadata": {
    "collapsed": false
   }
  },
  {
   "cell_type": "code",
   "outputs": [],
   "source": [
    "# Convert 'result' column to numeric: 0 = Legal, 1 = Phishing site\n",
    "y = y.replace({-1: 0, 1: 1})  # Replace -1 with 0 and 1 remains as 1"
   ],
   "metadata": {
    "collapsed": false,
    "ExecuteTime": {
     "end_time": "2025-01-31T14:29:47.999762Z",
     "start_time": "2025-01-31T14:29:47.997352Z"
    }
   },
   "execution_count": 204
  },
  {
   "cell_type": "markdown",
   "source": [
    "#### Feature Selection:\n",
    "\n",
    "We choose features based on what we know about the field or how important each feature is for predicting the target variable.\n",
    "\n",
    "Using the selected feature list, we create a new dataframe with only these columns."
   ],
   "metadata": {
    "collapsed": false
   }
  },
  {
   "cell_type": "code",
   "outputs": [],
   "source": [
    "# Select important features\n",
    "selected_features = [\n",
    "    'url_length', 'shortining_service', 'having_at_symbol', 'double_slash_redirecting', \n",
    "    'prefix_suffix', 'having_sub_domain', 'sslfinal_state', 'abnormal_url', 'https_token', 'redirect', 'url_of_anchor', 'iframe', 'request_url', 'submitting_to_email'\n",
    "]"
   ],
   "metadata": {
    "collapsed": false,
    "ExecuteTime": {
     "end_time": "2025-01-31T14:34:12.147361Z",
     "start_time": "2025-01-31T14:34:12.141169Z"
    }
   },
   "execution_count": 211
  },
  {
   "cell_type": "markdown",
   "source": [
    "#### Plitting the Data:\n",
    "\n",
    " To evaluate the model's performance on unseen data, we split the data into two subsets: \n",
    "    - Training data (80%) for training the model.\n",
    "    - Test data (20%) for evaluating how well the model generalizes to new data.\n",
    "    \n",
    "  We use `train_test_split()` from scikit-learn to divide the data into training and test sets. "
   ],
   "metadata": {
    "collapsed": false
   }
  },
  {
   "cell_type": "code",
   "outputs": [
    {
     "name": "stdout",
     "output_type": "stream",
     "text": [
      "(8844, 14) (2211, 14) (8844, 1) (2211, 1)\n"
     ]
    }
   ],
   "source": [
    "# Create X with only selected features\n",
    "X_selected = X[selected_features]\n",
    "\n",
    "# Data Splitting\n",
    "# Split the data: 80% training data, 20% testing data\n",
    "X_train, X_test, y_train, y_test = train_test_split(X_selected, y, test_size=0.2, random_state=42)\n",
    "\n",
    "# Check the split sizes to ensure it's correct\n",
    "print(X_train.shape, X_test.shape, y_train.shape, y_test.shape)"
   ],
   "metadata": {
    "collapsed": false,
    "ExecuteTime": {
     "end_time": "2025-01-31T14:34:18.343699Z",
     "start_time": "2025-01-31T14:34:18.327722Z"
    }
   },
   "execution_count": 212
  },
  {
   "cell_type": "markdown",
   "source": [
    "We use `head()` to print the first few rows of the selected features dataset. Make sure everything looks correct before moving on to training."
   ],
   "metadata": {
    "collapsed": false
   }
  },
  {
   "cell_type": "code",
   "outputs": [
    {
     "name": "stdout",
     "output_type": "stream",
     "text": [
      "   url_length  shortining_service  having_at_symbol  double_slash_redirecting  \\\n",
      "0           1                   1                 1                        -1   \n",
      "1           1                   1                 1                         1   \n",
      "2           0                   1                 1                         1   \n",
      "3           0                   1                 1                         1   \n",
      "4           0                  -1                 1                         1   \n",
      "\n",
      "   prefix_suffix  having_sub_domain  sslfinal_state  abnormal_url  \\\n",
      "0             -1                 -1              -1            -1   \n",
      "1             -1                  0               1             1   \n",
      "2             -1                 -1              -1            -1   \n",
      "3             -1                 -1              -1             1   \n",
      "4             -1                  1               1             1   \n",
      "\n",
      "   https_token  redirect  url_of_anchor  iframe  request_url  \\\n",
      "0           -1         0             -1       1            1   \n",
      "1           -1         0              0       1            1   \n",
      "2           -1         0              0       1            1   \n",
      "3           -1         0              0       1           -1   \n",
      "4            1         0              0       1            1   \n",
      "\n",
      "   submitting_to_email  \n",
      "0                   -1  \n",
      "1                    1  \n",
      "2                   -1  \n",
      "3                    1  \n",
      "4                    1  \n"
     ]
    }
   ],
   "source": [
    "print(X_selected.head())  # Print first few rows of the selected features dataset\n"
   ],
   "metadata": {
    "collapsed": false,
    "ExecuteTime": {
     "end_time": "2025-01-31T14:34:21.406562Z",
     "start_time": "2025-01-31T14:34:21.404681Z"
    }
   },
   "execution_count": 213
  },
  {
   "cell_type": "code",
   "execution_count": 208,
   "outputs": [],
   "source": [
    "# Phase 4: Modeling\n",
    "# Choose machine learning method and train the model. This phase also includes the validation of the model.\n"
   ],
   "metadata": {
    "collapsed": false,
    "ExecuteTime": {
     "end_time": "2025-01-31T14:29:48.037572Z",
     "start_time": "2025-01-31T14:29:48.012929Z"
    }
   }
  },
  {
   "cell_type": "code",
   "execution_count": 209,
   "outputs": [],
   "source": [
    "# Phase 5: Evaluation\n",
    "# Evaluate the model. How well does the model perform? Does it meet the business requirements?"
   ],
   "metadata": {
    "collapsed": false,
    "ExecuteTime": {
     "end_time": "2025-01-31T14:29:48.037725Z",
     "start_time": "2025-01-31T14:29:48.014603Z"
    }
   }
  },
  {
   "cell_type": "code",
   "execution_count": 210,
   "outputs": [],
   "source": [
    "# Phase 6: Deployment\n",
    "# Deploy the model. How will the model be used in practice? How will the results be communicated?"
   ],
   "metadata": {
    "collapsed": false,
    "ExecuteTime": {
     "end_time": "2025-01-31T14:29:48.037853Z",
     "start_time": "2025-01-31T14:29:48.016770Z"
    }
   }
  }
 ],
 "metadata": {
  "kernelspec": {
   "display_name": "Python 3",
   "language": "python",
   "name": "python3"
  },
  "language_info": {
   "codemirror_mode": {
    "name": "ipython",
    "version": 2
   },
   "file_extension": ".py",
   "mimetype": "text/x-python",
   "name": "python",
   "nbconvert_exporter": "python",
   "pygments_lexer": "ipython2",
   "version": "2.7.6"
  }
 },
 "nbformat": 4,
 "nbformat_minor": 0
}
