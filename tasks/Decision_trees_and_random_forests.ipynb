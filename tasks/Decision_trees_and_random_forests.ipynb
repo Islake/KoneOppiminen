{
 "cells": [
  {
   "cell_type": "code",
   "execution_count": 1,
   "metadata": {
    "collapsed": true
   },
   "outputs": [],
   "source": [
    "import pandas as pd\n",
    "import numpy as np\n",
    "import matplotlib.pyplot as plt\n",
    "from sklearn.neighbors import KNeighborsClassifier\n",
    "from ucimlrepo import fetch_ucirepo\n",
    "from sklearn.model_selection import train_test_split\n",
    "from sklearn.metrics import accuracy_score, confusion_matrix, precision_score, recall_score, classification_report\n"
   ]
  },
  {
   "cell_type": "code",
   "execution_count": 2,
   "outputs": [],
   "source": [
    "# CRISP-DM Phases\n",
    "\n",
    "## 1. Business Understanding\n",
    "The first phase is to understand the business problem that needs to be solved.\n",
    "- **Goal**: What is the goal of the analysis?\n",
    "- **Requirements and Constraints**: What are the requirements and constraints?\n",
    "- **Expected Outcome**: What is the expected outcome?\n",
    "\n",
    "## 2. Data Understanding\n",
    "The second phase is to collect and explore the data.\n",
    "- **Data Availability**: What data is available?\n",
    "- **Data Characteristics**: What are the characteristics of the data (variable types, value distributions, etc.)?\n",
    "- **Data Quality Issues**: Are there any quality issues with the data (missing values, outliers, nonsensical values)?\n",
    "\n",
    "## 3. Data Preparation\n",
    "The third phase is to preprocess the data. This includes:\n",
    "- **Cleaning the Data**\n",
    "- **Transforming the Data**\n",
    "- **Selecting Relevant Features**\n",
    "\n",
    "These steps should be documented in such detail that they can be reproduced later.\n",
    "\n",
    "## 4. Modeling\n",
    "The fourth phase is to choose a machine learning method and train the model. This phase also includes the validation of the model.\n",
    "- **Method Used**\n",
    "- **Parameters Used**\n",
    "- **Model Performance**\n",
    "\n",
    "## 5. Evaluation\n",
    "The fifth phase is to evaluate the model.\n",
    "- **Model Performance**: How well does the model perform?\n",
    "- **Business Requirements**: Does it meet the business requirements?\n",
    "\n",
    "## 6. Deployment\n",
    "The final phase is to deploy the model.\n",
    "- **Model Usage**: How will the model be used in practice?\n",
    "- **Results Communication**: How will the results be communicated?\n",
    "\n",
    "This phase may involve creating a recommendation of how to use the model in practice, or what to do next."
   ],
   "metadata": {
    "collapsed": false
   }
  },
  {
   "cell_type": "code",
   "execution_count": 8,
   "outputs": [],
   "source": [
    "# Phase 1: Business Understanding\n",
    "# The goal is to reliably predict if website is a phishing site based on the information about the site using UCI Machine Learning Repository: Phishing Websites Data Set."
   ],
   "metadata": {
    "collapsed": false
   }
  },
  {
   "cell_type": "code",
   "execution_count": 9,
   "outputs": [],
   "source": [
    "# Phase 2: Data understanding\n",
    "#"
   ],
   "metadata": {
    "collapsed": false
   }
  },
  {
   "cell_type": "code",
   "execution_count": 5,
   "outputs": [
    {
     "name": "stdout",
     "output_type": "stream",
     "text": [
      "0              having_ip_address\n",
      "1                     url_length\n",
      "2             shortining_service\n",
      "3               having_at_symbol\n",
      "4       double_slash_redirecting\n",
      "5                  prefix_suffix\n",
      "6              having_sub_domain\n",
      "7                 sslfinal_state\n",
      "8     domain_registration_length\n",
      "9                        favicon\n",
      "10                          port\n",
      "11                   https_token\n",
      "12                   request_url\n",
      "13                 url_of_anchor\n",
      "14                 links_in_tags\n",
      "15                           sfh\n",
      "16           submitting_to_email\n",
      "17                  abnormal_url\n",
      "18                      redirect\n",
      "19                  on_mouseover\n",
      "20                    rightclick\n",
      "21                   popupwindow\n",
      "22                        iframe\n",
      "23                 age_of_domain\n",
      "24                     dnsrecord\n",
      "25                   web_traffic\n",
      "26                     page_rank\n",
      "27                  google_index\n",
      "28        links_pointing_to_page\n",
      "29            statistical_report\n",
      "30                        result\n",
      "Name: name, dtype: object\n"
     ]
    }
   ],
   "source": [
    "from ucimlrepo import fetch_ucirepo\n",
    "\n",
    "# fetch dataset\n",
    "phishing_websites = fetch_ucirepo(id=327)\n",
    "\n",
    "# data (as pandas dataframes)\n",
    "X = phishing_websites.data.features\n",
    "y = phishing_websites.data.targets\n",
    "\n",
    "print(phishing_websites.variables.name)"
   ],
   "metadata": {
    "collapsed": false
   }
  },
  {
   "cell_type": "code",
   "execution_count": 7,
   "outputs": [],
   "source": [
    "# Phase 3: Data preparation\n",
    "# Cleaning the data, transforming the data, and selecting the relevant features\n"
   ],
   "metadata": {
    "collapsed": false
   }
  },
  {
   "cell_type": "code",
   "execution_count": 8,
   "outputs": [],
   "source": [
    "# Phase 4: Modeling\n",
    "# Choose machine learning method and train the model. This phase also includes the validation of the model.\n"
   ],
   "metadata": {
    "collapsed": false
   }
  },
  {
   "cell_type": "code",
   "execution_count": 9,
   "outputs": [],
   "source": [
    "# Phase 5: Evaluation\n",
    "# Evaluate the model. How well does the model perform? Does it meet the business requirements?"
   ],
   "metadata": {
    "collapsed": false
   }
  },
  {
   "cell_type": "code",
   "execution_count": null,
   "outputs": [],
   "source": [
    "# Phase 6: Deployment\n",
    "# Deploy the model. How will the model be used in practice? How will the results be communicated?"
   ],
   "metadata": {
    "collapsed": false
   }
  }
 ],
 "metadata": {
  "kernelspec": {
   "display_name": "Python 3",
   "language": "python",
   "name": "python3"
  },
  "language_info": {
   "codemirror_mode": {
    "name": "ipython",
    "version": 2
   },
   "file_extension": ".py",
   "mimetype": "text/x-python",
   "name": "python",
   "nbconvert_exporter": "python",
   "pygments_lexer": "ipython2",
   "version": "2.7.6"
  }
 },
 "nbformat": 4,
 "nbformat_minor": 0
}
