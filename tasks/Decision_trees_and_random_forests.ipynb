{
 "cells": [
  {
   "cell_type": "markdown",
   "source": [
    "# CRISP\n",
    "Business understanding:\n",
    " - The first phase is to understand the business problem that needs to be solved.\n",
    " - What is the goal of the analysis?\n",
    " - What are the requirements and constraints? What is the expected outcome?\n",
    "\n",
    "Data understanding:\n",
    " - The second phase is to collect and explore the data.\n",
    " - What data is available?\n",
    " - What are the characteristics of the data (variable types, value distributions etc.)?\n",
    " - Are there any quality issues with the data (missing values, outliers, nonsensical values)?\n",
    "\n",
    "Data preparation:\n",
    " - The third phase is to preprocess the data.\n",
    " - This includes cleaning the data, transforming the data, and selecting the relevant features.\n",
    " - These steps should be documented in such detail that they can be reproduced later.\n",
    "\n",
    "Modeling:\n",
    " - The fourth phase is to choose a machine learning method and train the model.\n",
    " - This phase also includes the validation of the model.\n",
    " - Documentation needs include:\n",
    "   - which method was used, which parameters were used, what was the performance of the model?\n",
    "\n",
    "Evaluation:\n",
    " - The fifth phase is to evaluate the model.\n",
    " - How well does the model perform?\n",
    " - Does it meet the business requirements?\n",
    "\n",
    "Deployment:\n",
    " - The final phase is to deploy the model.\n",
    " - How will the model be used in practice?\n",
    " - How will the results be communicated?\n",
    " - This phase may involve creating a recommendation of how to use the model in practice, or what to do next."
   ],
   "metadata": {
    "collapsed": false
   }
  },
  {
   "cell_type": "markdown",
   "source": [
    "## Phase 1: Business Understanding\n",
    " The goal is to reliably predict if website is a phishing site based on the information about the site using UCI Machine Learning Repository: Phishing Websites Data Set."
   ],
   "metadata": {
    "collapsed": false
   }
  },
  {
   "cell_type": "code",
   "execution_count": 8,
   "outputs": [],
   "source": [],
   "metadata": {
    "collapsed": false
   }
  },
  {
   "cell_type": "markdown",
   "source": [
    "## Phase 2: Data understanding"
   ],
   "metadata": {
    "collapsed": false
   }
  },
  {
   "cell_type": "code",
   "execution_count": 5,
   "outputs": [
    {
     "name": "stdout",
     "output_type": "stream",
     "text": [
      "0              having_ip_address\n",
      "1                     url_length\n",
      "2             shortining_service\n",
      "3               having_at_symbol\n",
      "4       double_slash_redirecting\n",
      "5                  prefix_suffix\n",
      "6              having_sub_domain\n",
      "7                 sslfinal_state\n",
      "8     domain_registration_length\n",
      "9                        favicon\n",
      "10                          port\n",
      "11                   https_token\n",
      "12                   request_url\n",
      "13                 url_of_anchor\n",
      "14                 links_in_tags\n",
      "15                           sfh\n",
      "16           submitting_to_email\n",
      "17                  abnormal_url\n",
      "18                      redirect\n",
      "19                  on_mouseover\n",
      "20                    rightclick\n",
      "21                   popupwindow\n",
      "22                        iframe\n",
      "23                 age_of_domain\n",
      "24                     dnsrecord\n",
      "25                   web_traffic\n",
      "26                     page_rank\n",
      "27                  google_index\n",
      "28        links_pointing_to_page\n",
      "29            statistical_report\n",
      "30                        result\n",
      "Name: name, dtype: object\n"
     ]
    }
   ],
   "source": [
    "import pandas as pd\n",
    "import numpy as np\n",
    "import matplotlib.pyplot as plt\n",
    "from sklearn.neighbors import KNeighborsClassifier\n",
    "from ucimlrepo import fetch_ucirepo\n",
    "from sklearn.model_selection import train_test_split\n",
    "from sklearn.metrics import accuracy_score, confusion_matrix, precision_score, recall_score, classification_report\n",
    "\n",
    "from ucimlrepo import fetch_ucirepo\n",
    "\n",
    "# fetch dataset\n",
    "phishing_websites = fetch_ucirepo(id=327)\n",
    "\n",
    "# data (as pandas dataframes)\n",
    "X = phishing_websites.data.features\n",
    "y = phishing_websites.data.targets\n",
    "\n",
    "print(phishing_websites.variables.name)"
   ],
   "metadata": {
    "collapsed": false
   }
  },
  {
   "cell_type": "markdown",
   "source": [
    "## Phase 3: Data preparation\n",
    "Cleaning the data, transforming the data, and selecting the relevant features"
   ],
   "metadata": {
    "collapsed": false
   }
  },
  {
   "cell_type": "code",
   "execution_count": 7,
   "outputs": [],
   "source": [
    "\n"
   ],
   "metadata": {
    "collapsed": false
   }
  },
  {
   "cell_type": "markdown",
   "source": [
    "## Phase 4: Modeling\n",
    "Choose machine learning method and train the model. This phase also includes the validation of the model."
   ],
   "metadata": {
    "collapsed": false
   }
  },
  {
   "cell_type": "code",
   "execution_count": 8,
   "outputs": [],
   "source": [
    "\n"
   ],
   "metadata": {
    "collapsed": false
   }
  },
  {
   "cell_type": "markdown",
   "source": [
    "## Phase 5: Evaluation\n",
    "Evaluate the model. How well does the model perform? Does it meet the business requirements?"
   ],
   "metadata": {
    "collapsed": false
   }
  },
  {
   "cell_type": "code",
   "execution_count": 9,
   "outputs": [],
   "source": [],
   "metadata": {
    "collapsed": false
   }
  },
  {
   "cell_type": "markdown",
   "source": [
    "## Phase 6: Deployment\n",
    "Deploy the model. How will the model be used in practice? How will the results be communicated?"
   ],
   "metadata": {
    "collapsed": false
   }
  },
  {
   "cell_type": "code",
   "execution_count": null,
   "outputs": [],
   "source": [],
   "metadata": {
    "collapsed": false
   }
  }
 ],
 "metadata": {
  "kernelspec": {
   "display_name": "Python 3",
   "language": "python",
   "name": "python3"
  },
  "language_info": {
   "codemirror_mode": {
    "name": "ipython",
    "version": 2
   },
   "file_extension": ".py",
   "mimetype": "text/x-python",
   "name": "python",
   "nbconvert_exporter": "python",
   "pygments_lexer": "ipython2",
   "version": "2.7.6"
  }
 },
 "nbformat": 4,
 "nbformat_minor": 0
}
