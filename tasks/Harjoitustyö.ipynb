{
 "cells": [
  {
   "cell_type": "markdown",
   "source": [
    "# Tehtävä:\n",
    "Valitkaa tutkimuksenne kohteeksi haluamanne tietoaineisto. Kyseessä voi olla jokin verkon datapankeista\n",
    "löytyvä tietoaineisto tai muulla tavoin (esim. web-louhinnan tekniikoin) kerätty aineisto.\n",
    "Esimerkkejä verkossa saatavilla olevista aineistoista ja aineistokokoelmista:\n",
    "· __[University of California Irvinen koneoppimisen tietovarasto](http://archive.ics.uci.edu/ml/datasets)__.\n",
    "· __[Kagglen aineistopankki](https://www.kaggle.com/datasets)__.\n",
    "· __[Helsinki Region Infoshare](http://www.hri.fi/fi/)__.\n",
    "· __[Väestörekisterikeskuksen avoindata.fi-palvelu:](https://www.avoindata.fi/)__.\n",
    "Voitte käyttää myös mitä tahansa muuta teitä kiinnostavaa aineistoa.\n",
    "Projektityössä noudatetaan CRISP-DM-mallia. Tutkimuskysymykset saatte keksiä itse.\n",
    "Työ alkaa tavoitteenasettelusta. Valitkaa aluksi teitä kiinnostavat tutkimuskysymykset: mitä ennalta\n",
    "tuntematonta haluatte saada aineistostanne selville **(CRISP-DM-mallin vaihe 1)**?\n",
    "Kuvatkaa aineistonne **(vaihe 2)** ja esikäsitelkää se **(vaihe 3)** valitsemienne analyysimenetelmien\n",
    "vaatimaan muotoon. Analysoikaa aineisto soveltuvin menetelmin **(vaihe 4)**, tulkitkaa tulokset\n",
    "**(vaihe 5)** ja kuvatkaa, millä tavoin tuloksia voi hyödyntää **(vaihe 6)**.\n",
    "\n",
    "# Tuotokset:\n",
    "Viimeisellä viikolla pidetään seminaaritilaisuus, jossa kukin tiimi esittelee projektinsa saavutukset.\n",
    "Esityksen lisäksi tuotoksena palautetaan:\n",
    "· linkki havainnolliseen ja esityskelpoiseen Jupyter Notebookina toteutettuun analyysiraporttiin,\n",
    "jossa kuvataan ja toteutetaan tiedonlouhintaprosessin eteneminen CRISP-DMmallin\n",
    "mukaisesti.\n",
    "\n",
    "# Arviointi:\n",
    "Projektityön perusteella voi saada 25% kurssin kokonaispistemäärästä. Työstä saatavaan pistemäärään\n",
    "vaikuttavat seuraavat seikat:\n",
    "· kysymyksenasettelun haastavuus ja omaleimaisuus\n",
    "· aineiston soveltuvuus asetettuihin tutkimuskysymyksiin\n",
    "· aineiston käsittelyn (keruu, esikäsittely, analyysi) tekninen oikeellisuus ja innovatiivisuus\n",
    "· tulosten kuvaaminen ja oikea tulkinta sekä tehtyjen johtopäätösten perustelu\n",
    "· dokumenttien ymmärrettävyys ja kattavuus\n",
    "· seminaariesityksen laatu"
   ],
   "metadata": {
    "collapsed": false
   }
  },
  {
   "cell_type": "code",
   "execution_count": null,
   "metadata": {
    "collapsed": true
   },
   "outputs": [],
   "source": []
  }
 ],
 "metadata": {
  "kernelspec": {
   "display_name": "Python 3",
   "language": "python",
   "name": "python3"
  },
  "language_info": {
   "codemirror_mode": {
    "name": "ipython",
    "version": 2
   },
   "file_extension": ".py",
   "mimetype": "text/x-python",
   "name": "python",
   "nbconvert_exporter": "python",
   "pygments_lexer": "ipython2",
   "version": "2.7.6"
  }
 },
 "nbformat": 4,
 "nbformat_minor": 0
}
