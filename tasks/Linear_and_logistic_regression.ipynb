{
 "cells": [
  {
   "cell_type": "code",
   "execution_count": 4,
   "metadata": {
    "collapsed": true,
    "ExecuteTime": {
     "end_time": "2025-02-07T09:51:56.946858Z",
     "start_time": "2025-02-07T09:51:39.593610Z"
    }
   },
   "outputs": [],
   "source": [
    "import pandas as pd\n",
    "import numpy as np\n",
    "import matplotlib.pyplot as plt\n",
    "from sklearn.neighbors import KNeighborsClassifier\n",
    "from ucimlrepo import fetch_ucirepo\n",
    "from sklearn.model_selection import train_test_split\n",
    "from sklearn.metrics import accuracy_score, confusion_matrix, precision_score, recall_score, classification_report"
   ]
  },
  {
   "cell_type": "markdown",
   "source": [
    "# Assignment: Linear and logistic regression\n",
    "The assignment consists of constructing two separate models for predicting the real estate prices in the dataset: one with linear and one with logistic regression.\n",
    "\n",
    "1. Linear regression model: construct a linear regression model for predicting the continuous target variable \"Y house price of unit area\" in the dataset.\n",
    "\n",
    "2. Logistic regression model: convert the target variable into a binary-valued one according to whether the original target value is above or below the average house price of unit area (within the training set samples), and construct a binary classifier for predicting its value with logistic regression.\n",
    "\n",
    "Both models should be validated, with appropriate metrics presented and discussed."
   ],
   "metadata": {
    "collapsed": false
   }
  },
  {
   "cell_type": "code",
   "execution_count": 4,
   "outputs": [],
   "source": [],
   "metadata": {
    "collapsed": false,
    "ExecuteTime": {
     "end_time": "2025-02-07T09:51:56.952714Z",
     "start_time": "2025-02-07T09:51:56.947260Z"
    }
   }
  },
  {
   "cell_type": "code",
   "execution_count": 28,
   "outputs": [
    {
     "name": "stdout",
     "output_type": "stream",
     "text": [
      "{'ids':       No\n",
      "0      1\n",
      "1      2\n",
      "2      3\n",
      "3      4\n",
      "4      5\n",
      "..   ...\n",
      "409  410\n",
      "410  411\n",
      "411  412\n",
      "412  413\n",
      "413  414\n",
      "\n",
      "[414 rows x 1 columns], 'features':      X1 transaction date  X2 house age  \\\n",
      "0               2012.917          32.0   \n",
      "1               2012.917          19.5   \n",
      "2               2013.583          13.3   \n",
      "3               2013.500          13.3   \n",
      "4               2012.833           5.0   \n",
      "..                   ...           ...   \n",
      "409             2013.000          13.7   \n",
      "410             2012.667           5.6   \n",
      "411             2013.250          18.8   \n",
      "412             2013.000           8.1   \n",
      "413             2013.500           6.5   \n",
      "\n",
      "     X3 distance to the nearest MRT station  X4 number of convenience stores  \\\n",
      "0                                  84.87882                               10   \n",
      "1                                 306.59470                                9   \n",
      "2                                 561.98450                                5   \n",
      "3                                 561.98450                                5   \n",
      "4                                 390.56840                                5   \n",
      "..                                      ...                              ...   \n",
      "409                              4082.01500                                0   \n",
      "410                                90.45606                                9   \n",
      "411                               390.96960                                7   \n",
      "412                               104.81010                                5   \n",
      "413                                90.45606                                9   \n",
      "\n",
      "     X5 latitude  X6 longitude  \n",
      "0       24.98298     121.54024  \n",
      "1       24.98034     121.53951  \n",
      "2       24.98746     121.54391  \n",
      "3       24.98746     121.54391  \n",
      "4       24.97937     121.54245  \n",
      "..           ...           ...  \n",
      "409     24.94155     121.50381  \n",
      "410     24.97433     121.54310  \n",
      "411     24.97923     121.53986  \n",
      "412     24.96674     121.54067  \n",
      "413     24.97433     121.54310  \n",
      "\n",
      "[414 rows x 6 columns], 'targets':      Y house price of unit area\n",
      "0                          37.9\n",
      "1                          42.2\n",
      "2                          47.3\n",
      "3                          54.8\n",
      "4                          43.1\n",
      "..                          ...\n",
      "409                        15.4\n",
      "410                        50.0\n",
      "411                        40.6\n",
      "412                        52.5\n",
      "413                        63.9\n",
      "\n",
      "[414 rows x 1 columns], 'original':       No  X1 transaction date  X2 house age  \\\n",
      "0      1             2012.917          32.0   \n",
      "1      2             2012.917          19.5   \n",
      "2      3             2013.583          13.3   \n",
      "3      4             2013.500          13.3   \n",
      "4      5             2012.833           5.0   \n",
      "..   ...                  ...           ...   \n",
      "409  410             2013.000          13.7   \n",
      "410  411             2012.667           5.6   \n",
      "411  412             2013.250          18.8   \n",
      "412  413             2013.000           8.1   \n",
      "413  414             2013.500           6.5   \n",
      "\n",
      "     X3 distance to the nearest MRT station  X4 number of convenience stores  \\\n",
      "0                                  84.87882                               10   \n",
      "1                                 306.59470                                9   \n",
      "2                                 561.98450                                5   \n",
      "3                                 561.98450                                5   \n",
      "4                                 390.56840                                5   \n",
      "..                                      ...                              ...   \n",
      "409                              4082.01500                                0   \n",
      "410                                90.45606                                9   \n",
      "411                               390.96960                                7   \n",
      "412                               104.81010                                5   \n",
      "413                                90.45606                                9   \n",
      "\n",
      "     X5 latitude  X6 longitude  Y house price of unit area  \n",
      "0       24.98298     121.54024                        37.9  \n",
      "1       24.98034     121.53951                        42.2  \n",
      "2       24.98746     121.54391                        47.3  \n",
      "3       24.98746     121.54391                        54.8  \n",
      "4       24.97937     121.54245                        43.1  \n",
      "..           ...           ...                         ...  \n",
      "409     24.94155     121.50381                        15.4  \n",
      "410     24.97433     121.54310                        50.0  \n",
      "411     24.97923     121.53986                        40.6  \n",
      "412     24.96674     121.54067                        52.5  \n",
      "413     24.97433     121.54310                        63.9  \n",
      "\n",
      "[414 rows x 8 columns], 'headers': Index(['No', 'X1 transaction date', 'X2 house age',\n",
      "       'X3 distance to the nearest MRT station',\n",
      "       'X4 number of convenience stores', 'X5 latitude', 'X6 longitude',\n",
      "       'Y house price of unit area'],\n",
      "      dtype='object')}\n"
     ]
    }
   ],
   "source": [
    "from ucimlrepo import fetch_ucirepo\n",
    "\n",
    "# fetch dataset\n",
    "real_estate_valuation = fetch_ucirepo(id=477)\n",
    "\n",
    "# data (as pandas dataframes)\n",
    "X = real_estate_valuation.data.features\n",
    "y = real_estate_valuation.data.targets\n",
    "\n",
    "# variable information\n",
    "print (real_estate_valuation.data)\n",
    "\n"
   ],
   "metadata": {
    "collapsed": false,
    "ExecuteTime": {
     "end_time": "2025-02-07T16:53:22.227471Z",
     "start_time": "2025-02-07T16:53:20.176390Z"
    }
   }
  },
  {
   "cell_type": "code",
   "outputs": [
    {
     "name": "stdout",
     "output_type": "stream",
     "text": [
      "<class 'pandas.core.frame.DataFrame'>\n",
      "RangeIndex: 414 entries, 0 to 413\n",
      "Data columns (total 6 columns):\n",
      " #   Column                                  Non-Null Count  Dtype  \n",
      "---  ------                                  --------------  -----  \n",
      " 0   X1 transaction date                     414 non-null    float64\n",
      " 1   X2 house age                            414 non-null    float64\n",
      " 2   X3 distance to the nearest MRT station  414 non-null    float64\n",
      " 3   X4 number of convenience stores         414 non-null    int64  \n",
      " 4   X5 latitude                             414 non-null    float64\n",
      " 5   X6 longitude                            414 non-null    float64\n",
      "dtypes: float64(5), int64(1)\n",
      "memory usage: 19.5 KB\n",
      "<class 'pandas.core.frame.DataFrame'>\n",
      "RangeIndex: 414 entries, 0 to 413\n",
      "Data columns (total 1 columns):\n",
      " #   Column                      Non-Null Count  Dtype  \n",
      "---  ------                      --------------  -----  \n",
      " 0   Y house price of unit area  414 non-null    float64\n",
      "dtypes: float64(1)\n",
      "memory usage: 3.4 KB\n"
     ]
    }
   ],
   "source": [
    "X.info()\n",
    "y.info()"
   ],
   "metadata": {
    "collapsed": false,
    "ExecuteTime": {
     "end_time": "2025-02-07T17:09:24.652595Z",
     "start_time": "2025-02-07T17:09:24.643245Z"
    }
   },
   "execution_count": 35
  },
  {
   "cell_type": "code",
   "outputs": [],
   "source": [],
   "metadata": {
    "collapsed": false
   }
  },
  {
   "cell_type": "markdown",
   "source": [
    "## Business Understanding\n",
    "\n",
    "###### The goal:\n",
    "- The goal of this analysis is to create models that can predict house prices per unit area using different property features, such as:\n",
    "\n",
    "    - House age  \n",
    "    - Distance to the nearest MRT station  \n",
    "    - Number of convenience stores nearby  \n",
    "    - Latitude and longitude of the property  \n",
    "    - Transaction date \n",
    "\n",
    "###### Requirements & Limits:\n",
    "\n",
    "- Data: The dataset has 414 records with important details about house prices.\n",
    "    Feature Processing: Some changes might be needed, like adjusting values, handling unusual data, or changing variables.\n",
    "    Model Choice: Linear regression will be used to predict prices, and logistic regression will be used if classification is needed.\n",
    "\n",
    "###### Expected Results:\n",
    "\n",
    "- A model that can predict house prices based on property details.\n",
    "    Insights into which factors impact house prices the most.\n",
    "  "
   ],
   "metadata": {
    "collapsed": false
   }
  },
  {
   "cell_type": "markdown",
   "source": [
    "## Data Understanding\n",
    " \n",
    "- We use the market historical data set of real estate valuation are collected from Sindian Dist., New Taipei City, Taiwan. \n",
    "- The dataset consists of 414 rows and 8 columns to real estate transactions.\n",
    "- Availible data:\n",
    "    - Transaction date\n",
    "    - house age\n",
    "    - distance ti the nearest MRT station\n",
    "    - number of convenience stores\n",
    "    - latitude\n",
    "    - longitude\n",
    "    - house price of unit area\n",
    "\n",
    "- Data type: float64(5), int64(1)\n",
    "- value distributions:\n",
    "   use .describe() to show the value distributions, \n",
    "   - for example, house age:\n",
    "      - Range: 0 to 43.8 years\n",
    "      - mean: 17.71 years\n",
    "      - std Dev: 11.39\n",
    "      - Interpretation: Houses vary widely in age, with a good number of newer houses (0 years).\n",
    "- No missing values\n",
    "- Latitude & Longitude: The range seems reasonable, but mapping the coordinates could reveal inconsistencies.\n"
   ],
   "metadata": {
    "collapsed": false
   }
  },
  {
   "cell_type": "code",
   "outputs": [
    {
     "name": "stdout",
     "output_type": "stream",
     "text": [
      "       X1 transaction date  X2 house age  \\\n",
      "count           414.000000    414.000000   \n",
      "mean           2013.148971     17.712560   \n",
      "std               0.281967     11.392485   \n",
      "min            2012.667000      0.000000   \n",
      "25%            2012.917000      9.025000   \n",
      "50%            2013.167000     16.100000   \n",
      "75%            2013.417000     28.150000   \n",
      "max            2013.583000     43.800000   \n",
      "\n",
      "       X3 distance to the nearest MRT station  \\\n",
      "count                              414.000000   \n",
      "mean                              1083.885689   \n",
      "std                               1262.109595   \n",
      "min                                 23.382840   \n",
      "25%                                289.324800   \n",
      "50%                                492.231300   \n",
      "75%                               1454.279000   \n",
      "max                               6488.021000   \n",
      "\n",
      "       X4 number of convenience stores  X5 latitude  X6 longitude  \\\n",
      "count                       414.000000   414.000000    414.000000   \n",
      "mean                          4.094203    24.969030    121.533361   \n",
      "std                           2.945562     0.012410      0.015347   \n",
      "min                           0.000000    24.932070    121.473530   \n",
      "25%                           1.000000    24.963000    121.528085   \n",
      "50%                           4.000000    24.971100    121.538630   \n",
      "75%                           6.000000    24.977455    121.543305   \n",
      "max                          10.000000    25.014590    121.566270   \n",
      "\n",
      "       Y house price of unit area  \n",
      "count                  414.000000  \n",
      "mean                    37.980193  \n",
      "std                     13.606488  \n",
      "min                      7.600000  \n",
      "25%                     27.700000  \n",
      "50%                     38.450000  \n",
      "75%                     46.600000  \n",
      "max                    117.500000  \n"
     ]
    }
   ],
   "source": [
    "# Get descriptive statistics\n",
    "describe_x = X.describe()\n",
    "describe_y = y.describe()\n",
    "\n",
    "# Join both summaries\n",
    "summary = describe_x.join(describe_y)\n",
    "\n",
    "# Display result\n",
    "print(summary)\n"
   ],
   "metadata": {
    "collapsed": false,
    "ExecuteTime": {
     "end_time": "2025-02-07T17:26:02.961509Z",
     "start_time": "2025-02-07T17:26:02.935987Z"
    }
   },
   "execution_count": 42
  },
  {
   "cell_type": "code",
   "outputs": [
    {
     "name": "stdout",
     "output_type": "stream",
     "text": [
      "<class 'pandas.core.frame.DataFrame'>\n",
      "RangeIndex: 414 entries, 0 to 413\n",
      "Data columns (total 6 columns):\n",
      " #   Column                                  Non-Null Count  Dtype  \n",
      "---  ------                                  --------------  -----  \n",
      " 0   X1 transaction date                     414 non-null    float64\n",
      " 1   X2 house age                            414 non-null    float64\n",
      " 2   X3 distance to the nearest MRT station  414 non-null    float64\n",
      " 3   X4 number of convenience stores         414 non-null    int64  \n",
      " 4   X5 latitude                             414 non-null    float64\n",
      " 5   X6 longitude                            414 non-null    float64\n",
      "dtypes: float64(5), int64(1)\n",
      "memory usage: 19.5 KB\n",
      "<class 'pandas.core.frame.DataFrame'>\n",
      "RangeIndex: 414 entries, 0 to 413\n",
      "Data columns (total 1 columns):\n",
      " #   Column                      Non-Null Count  Dtype  \n",
      "---  ------                      --------------  -----  \n",
      " 0   Y house price of unit area  414 non-null    float64\n",
      "dtypes: float64(1)\n",
      "memory usage: 3.4 KB\n"
     ]
    }
   ],
   "source": [
    "X.info()\n",
    "y.info()\n"
   ],
   "metadata": {
    "collapsed": false,
    "ExecuteTime": {
     "end_time": "2025-02-07T17:12:03.023945Z",
     "start_time": "2025-02-07T17:12:03.022043Z"
    }
   },
   "execution_count": 36
  },
  {
   "cell_type": "code",
   "outputs": [
    {
     "name": "stdout",
     "output_type": "stream",
     "text": [
      "X1 transaction date                       float64\n",
      "X2 house age                              float64\n",
      "X3 distance to the nearest MRT station    float64\n",
      "X4 number of convenience stores             int64\n",
      "X5 latitude                               float64\n",
      "X6 longitude                              float64\n",
      "dtype: object\n",
      "Y house price of unit area    float64\n",
      "dtype: object\n"
     ]
    }
   ],
   "source": [
    "print(X.dtypes)\n",
    "print(y.dtypes)"
   ],
   "metadata": {
    "collapsed": false,
    "ExecuteTime": {
     "end_time": "2025-02-07T16:58:51.352090Z",
     "start_time": "2025-02-07T16:58:51.340867Z"
    }
   },
   "execution_count": 32
  },
  {
   "cell_type": "markdown",
   "source": [
    "## Data Preparation\n",
    "- The third phase is to preprocess the data.\n",
    "- This includes cleaning the data, transforming the data, and selecting the relevant features.\n",
    "- These steps should be documented in such detail that they can be reproduced later."
   ],
   "metadata": {
    "collapsed": false
   }
  },
  {
   "cell_type": "code",
   "execution_count": 8,
   "outputs": [
    {
     "name": "stdout",
     "output_type": "stream",
     "text": [
      "0                                        No\n",
      "1                       X1 transaction date\n",
      "2                              X2 house age\n",
      "3    X3 distance to the nearest MRT station\n",
      "4           X4 number of convenience stores\n",
      "5                               X5 latitude\n",
      "6                              X6 longitude\n",
      "7                Y house price of unit area\n",
      "Name: name, dtype: object\n"
     ]
    }
   ],
   "source": [
    "print(real_estate_valuation.variables.name)\n",
    "\n"
   ],
   "metadata": {
    "collapsed": false,
    "ExecuteTime": {
     "end_time": "2025-02-07T11:46:58.241009Z",
     "start_time": "2025-02-07T11:46:58.239687Z"
    }
   }
  },
  {
   "cell_type": "markdown",
   "source": [
    "## Modeling\n",
    "- The fourth phase is to choose a machine learning method and train the model.\n",
    "- This phase also includes the validation of the model.\n",
    "- Documentation needs include:\n",
    "-- which method was used, which parameters were used, what was the performance of the model?"
   ],
   "metadata": {
    "collapsed": false
   }
  },
  {
   "cell_type": "code",
   "execution_count": null,
   "outputs": [],
   "source": [],
   "metadata": {
    "collapsed": false,
    "ExecuteTime": {
     "start_time": "2025-02-07T09:49:50.019862Z"
    }
   }
  },
  {
   "cell_type": "markdown",
   "source": [
    "## Evaluation\n",
    "- The fifth phase is to evaluate the model.\n",
    "- How well does the model perform?\n",
    "- Does it meet the business requirements?"
   ],
   "metadata": {
    "collapsed": false
   }
  },
  {
   "cell_type": "code",
   "execution_count": null,
   "outputs": [],
   "source": [],
   "metadata": {
    "collapsed": false,
    "ExecuteTime": {
     "start_time": "2025-02-07T09:49:50.020481Z"
    }
   }
  },
  {
   "cell_type": "markdown",
   "source": [
    "## Deployment\n",
    "- The final phase is to deploy the model.\n",
    "- How will the model be used in practice?\n",
    "- How will the results be communicated?\n",
    "- This phase may involve creating a recommendation of how to use the model in practice, or what to do next."
   ],
   "metadata": {
    "collapsed": false
   }
  },
  {
   "cell_type": "code",
   "execution_count": null,
   "outputs": [],
   "source": [],
   "metadata": {
    "collapsed": false,
    "ExecuteTime": {
     "start_time": "2025-02-07T09:49:50.021406Z"
    }
   }
  }
 ],
 "metadata": {
  "kernelspec": {
   "display_name": "Python 3",
   "language": "python",
   "name": "python3"
  },
  "language_info": {
   "codemirror_mode": {
    "name": "ipython",
    "version": 2
   },
   "file_extension": ".py",
   "mimetype": "text/x-python",
   "name": "python",
   "nbconvert_exporter": "python",
   "pygments_lexer": "ipython2",
   "version": "2.7.6"
  }
 },
 "nbformat": 4,
 "nbformat_minor": 0
}
