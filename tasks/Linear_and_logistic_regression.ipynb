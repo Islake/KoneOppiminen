{
 "cells": [
  {
   "cell_type": "code",
   "execution_count": 4,
   "metadata": {
    "collapsed": true,
    "ExecuteTime": {
     "end_time": "2025-02-07T09:51:56.946858Z",
     "start_time": "2025-02-07T09:51:39.593610Z"
    }
   },
   "outputs": [],
   "source": [
    "import pandas as pd\n",
    "import numpy as np\n",
    "import matplotlib.pyplot as plt\n",
    "from sklearn.neighbors import KNeighborsClassifier\n",
    "from ucimlrepo import fetch_ucirepo\n",
    "from sklearn.model_selection import train_test_split\n",
    "from sklearn.metrics import accuracy_score, confusion_matrix, precision_score, recall_score, classification_report"
   ]
  },
  {
   "cell_type": "markdown",
   "source": [
    "# Assignment: Linear and logistic regression\n",
    "The assignment consists of constructing two separate models for predicting the real estate prices in the dataset: one with linear and one with logistic regression.\n",
    "\n",
    "1. Linear regression model: construct a linear regression model for predicting the continuous target variable \"Y house price of unit area\" in the dataset.\n",
    "\n",
    "2. Logistic regression model: convert the target variable into a binary-valued one according to whether the original target value is above or below the average house price of unit area (within the training set samples), and construct a binary classifier for predicting its value with logistic regression.\n",
    "\n",
    "Both models should be validated, with appropriate metrics presented and discussed."
   ],
   "metadata": {
    "collapsed": false
   }
  },
  {
   "cell_type": "code",
   "execution_count": 4,
   "outputs": [],
   "source": [],
   "metadata": {
    "collapsed": false,
    "ExecuteTime": {
     "end_time": "2025-02-07T09:51:56.952714Z",
     "start_time": "2025-02-07T09:51:56.947260Z"
    }
   }
  },
  {
   "cell_type": "code",
   "execution_count": 5,
   "outputs": [
    {
     "name": "stdout",
     "output_type": "stream",
     "text": [
      "{'ids':       No\n",
      "0      1\n",
      "1      2\n",
      "2      3\n",
      "3      4\n",
      "4      5\n",
      "..   ...\n",
      "409  410\n",
      "410  411\n",
      "411  412\n",
      "412  413\n",
      "413  414\n",
      "\n",
      "[414 rows x 1 columns], 'features':      X1 transaction date  X2 house age  \\\n",
      "0               2012.917          32.0   \n",
      "1               2012.917          19.5   \n",
      "2               2013.583          13.3   \n",
      "3               2013.500          13.3   \n",
      "4               2012.833           5.0   \n",
      "..                   ...           ...   \n",
      "409             2013.000          13.7   \n",
      "410             2012.667           5.6   \n",
      "411             2013.250          18.8   \n",
      "412             2013.000           8.1   \n",
      "413             2013.500           6.5   \n",
      "\n",
      "     X3 distance to the nearest MRT station  X4 number of convenience stores  \\\n",
      "0                                  84.87882                               10   \n",
      "1                                 306.59470                                9   \n",
      "2                                 561.98450                                5   \n",
      "3                                 561.98450                                5   \n",
      "4                                 390.56840                                5   \n",
      "..                                      ...                              ...   \n",
      "409                              4082.01500                                0   \n",
      "410                                90.45606                                9   \n",
      "411                               390.96960                                7   \n",
      "412                               104.81010                                5   \n",
      "413                                90.45606                                9   \n",
      "\n",
      "     X5 latitude  X6 longitude  \n",
      "0       24.98298     121.54024  \n",
      "1       24.98034     121.53951  \n",
      "2       24.98746     121.54391  \n",
      "3       24.98746     121.54391  \n",
      "4       24.97937     121.54245  \n",
      "..           ...           ...  \n",
      "409     24.94155     121.50381  \n",
      "410     24.97433     121.54310  \n",
      "411     24.97923     121.53986  \n",
      "412     24.96674     121.54067  \n",
      "413     24.97433     121.54310  \n",
      "\n",
      "[414 rows x 6 columns], 'targets':      Y house price of unit area\n",
      "0                          37.9\n",
      "1                          42.2\n",
      "2                          47.3\n",
      "3                          54.8\n",
      "4                          43.1\n",
      "..                          ...\n",
      "409                        15.4\n",
      "410                        50.0\n",
      "411                        40.6\n",
      "412                        52.5\n",
      "413                        63.9\n",
      "\n",
      "[414 rows x 1 columns], 'original':       No  X1 transaction date  X2 house age  \\\n",
      "0      1             2012.917          32.0   \n",
      "1      2             2012.917          19.5   \n",
      "2      3             2013.583          13.3   \n",
      "3      4             2013.500          13.3   \n",
      "4      5             2012.833           5.0   \n",
      "..   ...                  ...           ...   \n",
      "409  410             2013.000          13.7   \n",
      "410  411             2012.667           5.6   \n",
      "411  412             2013.250          18.8   \n",
      "412  413             2013.000           8.1   \n",
      "413  414             2013.500           6.5   \n",
      "\n",
      "     X3 distance to the nearest MRT station  X4 number of convenience stores  \\\n",
      "0                                  84.87882                               10   \n",
      "1                                 306.59470                                9   \n",
      "2                                 561.98450                                5   \n",
      "3                                 561.98450                                5   \n",
      "4                                 390.56840                                5   \n",
      "..                                      ...                              ...   \n",
      "409                              4082.01500                                0   \n",
      "410                                90.45606                                9   \n",
      "411                               390.96960                                7   \n",
      "412                               104.81010                                5   \n",
      "413                                90.45606                                9   \n",
      "\n",
      "     X5 latitude  X6 longitude  Y house price of unit area  \n",
      "0       24.98298     121.54024                        37.9  \n",
      "1       24.98034     121.53951                        42.2  \n",
      "2       24.98746     121.54391                        47.3  \n",
      "3       24.98746     121.54391                        54.8  \n",
      "4       24.97937     121.54245                        43.1  \n",
      "..           ...           ...                         ...  \n",
      "409     24.94155     121.50381                        15.4  \n",
      "410     24.97433     121.54310                        50.0  \n",
      "411     24.97923     121.53986                        40.6  \n",
      "412     24.96674     121.54067                        52.5  \n",
      "413     24.97433     121.54310                        63.9  \n",
      "\n",
      "[414 rows x 8 columns], 'headers': Index(['No', 'X1 transaction date', 'X2 house age',\n",
      "       'X3 distance to the nearest MRT station',\n",
      "       'X4 number of convenience stores', 'X5 latitude', 'X6 longitude',\n",
      "       'Y house price of unit area'],\n",
      "      dtype='object')}\n"
     ]
    }
   ],
   "source": [
    "from ucimlrepo import fetch_ucirepo\n",
    "\n",
    "# fetch dataset\n",
    "real_estate_valuation = fetch_ucirepo(id=477)\n",
    "\n",
    "# data (as pandas dataframes)\n",
    "X = real_estate_valuation.data.features\n",
    "y = real_estate_valuation.data.targets\n",
    "\n",
    "# variable information\n",
    "print (real_estate_valuation.data)\n",
    "\n"
   ],
   "metadata": {
    "collapsed": false,
    "ExecuteTime": {
     "end_time": "2025-02-07T09:51:58.518103Z",
     "start_time": "2025-02-07T09:51:56.949039Z"
    }
   }
  },
  {
   "cell_type": "markdown",
   "source": [
    "## Business Understanding\n",
    "\n",
    "###### The goal:\n",
    "- The goal of this analysis is to create models that can predict house prices per unit area using different property features, such as:\n",
    "\n",
    "    - House age  \n",
    "    - Distance to the nearest MRT station  \n",
    "    - Number of convenience stores nearby  \n",
    "    - Latitude and longitude of the property  \n",
    "    - Transaction date \n",
    "\n",
    "###### Requirements & Limits:\n",
    "\n",
    "- Data: The dataset has 414 records with important details about house prices.\n",
    "    Feature Processing: Some changes might be needed, like adjusting values, handling unusual data, or changing variables.\n",
    "    Model Choice: Linear regression will be used to predict prices, and logistic regression will be used if classification is needed.\n",
    "\n",
    "###### Expected Results:\n",
    "\n",
    "- A model that can predict house prices based on property details.\n",
    "    Insights into which factors impact house prices the most.\n",
    "  "
   ],
   "metadata": {
    "collapsed": false
   }
  },
  {
   "cell_type": "code",
   "execution_count": 5,
   "outputs": [],
   "source": [],
   "metadata": {
    "collapsed": false,
    "ExecuteTime": {
     "end_time": "2025-02-07T10:25:51.299939Z",
     "start_time": "2025-02-07T10:25:51.296484Z"
    }
   }
  },
  {
   "cell_type": "markdown",
   "source": [
    "## Data Understanding\n",
    "- The second phase is to collect and explore the data.\n",
    "- What data is available?\n",
    "- What are the characteristics of the data (variable types, value distributions etc.)?\n",
    "- Are there any quality issues with the data (missing values, outliers, nonsensical values)?"
   ],
   "metadata": {
    "collapsed": false
   }
  },
  {
   "cell_type": "code",
   "execution_count": null,
   "outputs": [],
   "source": [],
   "metadata": {
    "collapsed": false,
    "ExecuteTime": {
     "start_time": "2025-02-07T09:49:50.018469Z"
    }
   }
  },
  {
   "cell_type": "markdown",
   "source": [
    "## Data Preparation\n",
    "- The third phase is to preprocess the data.\n",
    "- This includes cleaning the data, transforming the data, and selecting the relevant features.\n",
    "- These steps should be documented in such detail that they can be reproduced later."
   ],
   "metadata": {
    "collapsed": false
   }
  },
  {
   "cell_type": "code",
   "execution_count": null,
   "outputs": [],
   "source": [
    "X.dtype\n"
   ],
   "metadata": {
    "collapsed": false,
    "ExecuteTime": {
     "start_time": "2025-02-07T09:49:50.019251Z"
    }
   }
  },
  {
   "cell_type": "markdown",
   "source": [
    "## Modeling\n",
    "- The fourth phase is to choose a machine learning method and train the model.\n",
    "- This phase also includes the validation of the model.\n",
    "- Documentation needs include:\n",
    "-- which method was used, which parameters were used, what was the performance of the model?"
   ],
   "metadata": {
    "collapsed": false
   }
  },
  {
   "cell_type": "code",
   "execution_count": null,
   "outputs": [],
   "source": [],
   "metadata": {
    "collapsed": false,
    "ExecuteTime": {
     "start_time": "2025-02-07T09:49:50.019862Z"
    }
   }
  },
  {
   "cell_type": "markdown",
   "source": [
    "## Evaluation\n",
    "- The fifth phase is to evaluate the model.\n",
    "- How well does the model perform?\n",
    "- Does it meet the business requirements?"
   ],
   "metadata": {
    "collapsed": false
   }
  },
  {
   "cell_type": "code",
   "execution_count": null,
   "outputs": [],
   "source": [],
   "metadata": {
    "collapsed": false,
    "ExecuteTime": {
     "start_time": "2025-02-07T09:49:50.020481Z"
    }
   }
  },
  {
   "cell_type": "markdown",
   "source": [
    "## Deployment\n",
    "- The final phase is to deploy the model.\n",
    "- How will the model be used in practice?\n",
    "- How will the results be communicated?\n",
    "- This phase may involve creating a recommendation of how to use the model in practice, or what to do next."
   ],
   "metadata": {
    "collapsed": false
   }
  },
  {
   "cell_type": "code",
   "execution_count": null,
   "outputs": [],
   "source": [],
   "metadata": {
    "collapsed": false,
    "ExecuteTime": {
     "start_time": "2025-02-07T09:49:50.021406Z"
    }
   }
  }
 ],
 "metadata": {
  "kernelspec": {
   "display_name": "Python 3",
   "language": "python",
   "name": "python3"
  },
  "language_info": {
   "codemirror_mode": {
    "name": "ipython",
    "version": 2
   },
   "file_extension": ".py",
   "mimetype": "text/x-python",
   "name": "python",
   "nbconvert_exporter": "python",
   "pygments_lexer": "ipython2",
   "version": "2.7.6"
  }
 },
 "nbformat": 4,
 "nbformat_minor": 0
}
