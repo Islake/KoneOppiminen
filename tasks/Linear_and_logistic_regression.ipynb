{
 "cells": [
  {
   "cell_type": "code",
   "execution_count": 2,
   "metadata": {
    "collapsed": true,
    "ExecuteTime": {
     "end_time": "2025-02-07T18:27:47.636054Z",
     "start_time": "2025-02-07T18:27:47.618386Z"
    }
   },
   "outputs": [],
   "source": [
    "import pandas as pd\n",
    "import numpy as np\n",
    "import matplotlib.pyplot as plt\n",
    "from sklearn.neighbors import KNeighborsClassifier\n",
    "from ucimlrepo import fetch_ucirepo\n",
    "from sklearn.model_selection import train_test_split\n",
    "from sklearn.metrics import accuracy_score, confusion_matrix, precision_score, recall_score, classification_report,mean_squared_error, r2_score\n",
    "from sklearn.linear_model import LinearRegression\n"
   ]
  },
  {
   "cell_type": "markdown",
   "source": [
    "# Assignment: Linear and logistic regression\n",
    "The assignment consists of constructing two separate models for predicting the real estate prices in the dataset: one with linear and one with logistic regression.\n",
    "\n",
    "1. Linear regression model: construct a linear regression model for predicting the continuous target variable \"Y house price of unit area\" in the dataset.\n",
    "\n",
    "2. Logistic regression model: convert the target variable into a binary-valued one according to whether the original target value is above or below the average house price of unit area (within the training set samples), and construct a binary classifier for predicting its value with logistic regression.\n",
    "\n",
    "Both models should be validated, with appropriate metrics presented and discussed."
   ],
   "metadata": {
    "collapsed": false
   }
  },
  {
   "cell_type": "code",
   "execution_count": 3,
   "outputs": [
    {
     "name": "stdout",
     "output_type": "stream",
     "text": [
      "{'ids':       No\n",
      "0      1\n",
      "1      2\n",
      "2      3\n",
      "3      4\n",
      "4      5\n",
      "..   ...\n",
      "409  410\n",
      "410  411\n",
      "411  412\n",
      "412  413\n",
      "413  414\n",
      "\n",
      "[414 rows x 1 columns], 'features':      X1 transaction date  X2 house age  \\\n",
      "0               2012.917          32.0   \n",
      "1               2012.917          19.5   \n",
      "2               2013.583          13.3   \n",
      "3               2013.500          13.3   \n",
      "4               2012.833           5.0   \n",
      "..                   ...           ...   \n",
      "409             2013.000          13.7   \n",
      "410             2012.667           5.6   \n",
      "411             2013.250          18.8   \n",
      "412             2013.000           8.1   \n",
      "413             2013.500           6.5   \n",
      "\n",
      "     X3 distance to the nearest MRT station  X4 number of convenience stores  \\\n",
      "0                                  84.87882                               10   \n",
      "1                                 306.59470                                9   \n",
      "2                                 561.98450                                5   \n",
      "3                                 561.98450                                5   \n",
      "4                                 390.56840                                5   \n",
      "..                                      ...                              ...   \n",
      "409                              4082.01500                                0   \n",
      "410                                90.45606                                9   \n",
      "411                               390.96960                                7   \n",
      "412                               104.81010                                5   \n",
      "413                                90.45606                                9   \n",
      "\n",
      "     X5 latitude  X6 longitude  \n",
      "0       24.98298     121.54024  \n",
      "1       24.98034     121.53951  \n",
      "2       24.98746     121.54391  \n",
      "3       24.98746     121.54391  \n",
      "4       24.97937     121.54245  \n",
      "..           ...           ...  \n",
      "409     24.94155     121.50381  \n",
      "410     24.97433     121.54310  \n",
      "411     24.97923     121.53986  \n",
      "412     24.96674     121.54067  \n",
      "413     24.97433     121.54310  \n",
      "\n",
      "[414 rows x 6 columns], 'targets':      Y house price of unit area\n",
      "0                          37.9\n",
      "1                          42.2\n",
      "2                          47.3\n",
      "3                          54.8\n",
      "4                          43.1\n",
      "..                          ...\n",
      "409                        15.4\n",
      "410                        50.0\n",
      "411                        40.6\n",
      "412                        52.5\n",
      "413                        63.9\n",
      "\n",
      "[414 rows x 1 columns], 'original':       No  X1 transaction date  X2 house age  \\\n",
      "0      1             2012.917          32.0   \n",
      "1      2             2012.917          19.5   \n",
      "2      3             2013.583          13.3   \n",
      "3      4             2013.500          13.3   \n",
      "4      5             2012.833           5.0   \n",
      "..   ...                  ...           ...   \n",
      "409  410             2013.000          13.7   \n",
      "410  411             2012.667           5.6   \n",
      "411  412             2013.250          18.8   \n",
      "412  413             2013.000           8.1   \n",
      "413  414             2013.500           6.5   \n",
      "\n",
      "     X3 distance to the nearest MRT station  X4 number of convenience stores  \\\n",
      "0                                  84.87882                               10   \n",
      "1                                 306.59470                                9   \n",
      "2                                 561.98450                                5   \n",
      "3                                 561.98450                                5   \n",
      "4                                 390.56840                                5   \n",
      "..                                      ...                              ...   \n",
      "409                              4082.01500                                0   \n",
      "410                                90.45606                                9   \n",
      "411                               390.96960                                7   \n",
      "412                               104.81010                                5   \n",
      "413                                90.45606                                9   \n",
      "\n",
      "     X5 latitude  X6 longitude  Y house price of unit area  \n",
      "0       24.98298     121.54024                        37.9  \n",
      "1       24.98034     121.53951                        42.2  \n",
      "2       24.98746     121.54391                        47.3  \n",
      "3       24.98746     121.54391                        54.8  \n",
      "4       24.97937     121.54245                        43.1  \n",
      "..           ...           ...                         ...  \n",
      "409     24.94155     121.50381                        15.4  \n",
      "410     24.97433     121.54310                        50.0  \n",
      "411     24.97923     121.53986                        40.6  \n",
      "412     24.96674     121.54067                        52.5  \n",
      "413     24.97433     121.54310                        63.9  \n",
      "\n",
      "[414 rows x 8 columns], 'headers': Index(['No', 'X1 transaction date', 'X2 house age',\n",
      "       'X3 distance to the nearest MRT station',\n",
      "       'X4 number of convenience stores', 'X5 latitude', 'X6 longitude',\n",
      "       'Y house price of unit area'],\n",
      "      dtype='object')}\n"
     ]
    }
   ],
   "source": [
    "from ucimlrepo import fetch_ucirepo\n",
    "\n",
    "# fetch dataset\n",
    "real_estate_valuation = fetch_ucirepo(id=477)\n",
    "\n",
    "# data (as pandas dataframes)\n",
    "X = real_estate_valuation.data.features\n",
    "y = real_estate_valuation.data.targets\n",
    "\n",
    "# variable information\n",
    "print (real_estate_valuation.data)"
   ],
   "metadata": {
    "collapsed": false,
    "ExecuteTime": {
     "end_time": "2025-02-07T18:27:49.707727Z",
     "start_time": "2025-02-07T18:27:47.636322Z"
    }
   }
  },
  {
   "cell_type": "markdown",
   "source": [
    "## Business Understanding\n",
    "\n",
    "###### The goal:\n",
    "- The goal of this analysis is to create models that can predict house prices per unit area using different property features, such as:\n",
    "\n",
    "    - House age  \n",
    "    - Distance to the nearest MRT station  \n",
    "    - Number of convenience stores nearby  \n",
    "    - Latitude and longitude of the property  \n",
    "    - Transaction date \n",
    "\n",
    "###### Requirements & Limits:\n",
    "\n",
    "- Data: The dataset has 414 records with important details about house prices.\n",
    "    Feature Processing: Some changes might be needed, like adjusting values, handling unusual data, or changing variables.\n",
    "    Model Choice: Linear regression will be used to predict prices, and logistic regression will be used if classification is needed.\n",
    "\n",
    "###### Expected Results:\n",
    "\n",
    "- A model that can predict house prices based on property details.\n",
    "    Insights into which factors impact house prices the most.\n",
    "  "
   ],
   "metadata": {
    "collapsed": false
   }
  },
  {
   "cell_type": "markdown",
   "source": [
    "## Data Understanding\n",
    " \n",
    "- We use the market historical data set of real estate valuation are collected from Sindian Dist., New Taipei City, Taiwan. \n",
    "- The dataset consists of 414 rows and 8 columns to real estate transactions.\n",
    "- Availible data:\n",
    "    - Transaction date\n",
    "    - house age\n",
    "    - distance ti the nearest MRT station\n",
    "    - number of convenience stores\n",
    "    - latitude\n",
    "    - longitude\n",
    "    - house price of unit area\n",
    "\n",
    "- Data type: float64(5), int64(1)\n",
    "- value distributions:\n",
    "   use .describe() to show the value distributions, \n",
    "   - for example, house age:\n",
    "      - Range: 0 to 43.8 years\n",
    "      - mean: 17.71 years\n",
    "      - std Dev: 11.39\n",
    "      - Interpretation: Houses vary widely in age, with a good number of newer houses (0 years).\n",
    "- No missing values\n",
    "- Latitude & Longitude: The range seems reasonable, but mapping the coordinates could reveal inconsistencies.\n"
   ],
   "metadata": {
    "collapsed": false
   }
  },
  {
   "cell_type": "code",
   "outputs": [
    {
     "name": "stdout",
     "output_type": "stream",
     "text": [
      "       X1 transaction date  X2 house age  \\\n",
      "count           414.000000    414.000000   \n",
      "mean           2013.148971     17.712560   \n",
      "std               0.281967     11.392485   \n",
      "min            2012.667000      0.000000   \n",
      "25%            2012.917000      9.025000   \n",
      "50%            2013.167000     16.100000   \n",
      "75%            2013.417000     28.150000   \n",
      "max            2013.583000     43.800000   \n",
      "\n",
      "       X3 distance to the nearest MRT station  \\\n",
      "count                              414.000000   \n",
      "mean                              1083.885689   \n",
      "std                               1262.109595   \n",
      "min                                 23.382840   \n",
      "25%                                289.324800   \n",
      "50%                                492.231300   \n",
      "75%                               1454.279000   \n",
      "max                               6488.021000   \n",
      "\n",
      "       X4 number of convenience stores  X5 latitude  X6 longitude  \\\n",
      "count                       414.000000   414.000000    414.000000   \n",
      "mean                          4.094203    24.969030    121.533361   \n",
      "std                           2.945562     0.012410      0.015347   \n",
      "min                           0.000000    24.932070    121.473530   \n",
      "25%                           1.000000    24.963000    121.528085   \n",
      "50%                           4.000000    24.971100    121.538630   \n",
      "75%                           6.000000    24.977455    121.543305   \n",
      "max                          10.000000    25.014590    121.566270   \n",
      "\n",
      "       Y house price of unit area  \n",
      "count                  414.000000  \n",
      "mean                    37.980193  \n",
      "std                     13.606488  \n",
      "min                      7.600000  \n",
      "25%                     27.700000  \n",
      "50%                     38.450000  \n",
      "75%                     46.600000  \n",
      "max                    117.500000  \n"
     ]
    }
   ],
   "source": [
    "# Get descriptive statistics\n",
    "describe_x = X.describe()\n",
    "describe_y = y.describe()\n",
    "\n",
    "# Join both summaries\n",
    "summary = describe_x.join(describe_y)\n",
    "\n",
    "# Display result\n",
    "print(summary)\n"
   ],
   "metadata": {
    "collapsed": false,
    "ExecuteTime": {
     "end_time": "2025-02-07T18:27:49.723942Z",
     "start_time": "2025-02-07T18:27:49.707778Z"
    }
   },
   "execution_count": 4
  },
  {
   "cell_type": "code",
   "outputs": [
    {
     "name": "stdout",
     "output_type": "stream",
     "text": [
      "X1 transaction date                       float64\n",
      "X2 house age                              float64\n",
      "X3 distance to the nearest MRT station    float64\n",
      "X4 number of convenience stores             int64\n",
      "X5 latitude                               float64\n",
      "X6 longitude                              float64\n",
      "dtype: object\n",
      "Y house price of unit area    float64\n",
      "dtype: object\n"
     ]
    }
   ],
   "source": [
    "print(X.dtypes)\n",
    "print(y.dtypes)"
   ],
   "metadata": {
    "collapsed": false,
    "ExecuteTime": {
     "end_time": "2025-02-07T18:27:49.726922Z",
     "start_time": "2025-02-07T18:27:49.723147Z"
    }
   },
   "execution_count": 5
  },
  {
   "cell_type": "markdown",
   "source": [
    "## Data Preparation\n",
    "#### Cleaning the data:\n",
    "   - There are no missing values, outliers, or nonsensical values. Therefore, we haven't done anything.\n",
    "      \n",
    "#### Feature Selection:\n",
    "   - We use all feature.\n",
    "   \n",
    "#### Plitting the Data:\n",
    "\n",
    " To evaluate the model's performance on unseen data, we split the data into two subsets: \n",
    "    - Training data (80%) for training the model.\n",
    "    - Test data (20%) for evaluating how well the model generalizes to new data.\n",
    "    \n",
    "  We use `train_test_split()` from scikit-learn to divide the data into training and test sets. \n"
   ],
   "metadata": {
    "collapsed": false
   }
  },
  {
   "cell_type": "code",
   "outputs": [
    {
     "name": "stdout",
     "output_type": "stream",
     "text": [
      "(331, 6) (83, 6) (331, 1)\n"
     ]
    }
   ],
   "source": [
    "#Data Splitting\n",
    "X_train, X_test, y_train, y_test = train_test_split(X, y, test_size=0.2, random_state=42) \n",
    "print(X_train.shape, X_test.shape, y_train.shape)"
   ],
   "metadata": {
    "collapsed": false,
    "ExecuteTime": {
     "end_time": "2025-02-07T18:27:49.754120Z",
     "start_time": "2025-02-07T18:27:49.728410Z"
    }
   },
   "execution_count": 6
  },
  {
   "cell_type": "markdown",
   "source": [
    "We use `head()` to print the first few rows of the features dataset. Make sure everything looks correct before moving on to training."
   ],
   "metadata": {
    "collapsed": false
   }
  },
  {
   "cell_type": "code",
   "outputs": [
    {
     "name": "stdout",
     "output_type": "stream",
     "text": [
      "   X1 transaction date  X2 house age  X3 distance to the nearest MRT station  \\\n",
      "0             2012.917          32.0                                84.87882   \n",
      "1             2012.917          19.5                               306.59470   \n",
      "2             2013.583          13.3                               561.98450   \n",
      "3             2013.500          13.3                               561.98450   \n",
      "4             2012.833           5.0                               390.56840   \n",
      "\n",
      "   X4 number of convenience stores  X5 latitude  X6 longitude  \n",
      "0                               10     24.98298     121.54024  \n",
      "1                                9     24.98034     121.53951  \n",
      "2                                5     24.98746     121.54391  \n",
      "3                                5     24.98746     121.54391  \n",
      "4                                5     24.97937     121.54245  \n"
     ]
    }
   ],
   "source": [
    "print(X.head()) \n",
    "feature_names = X.columns.tolist()"
   ],
   "metadata": {
    "collapsed": false,
    "ExecuteTime": {
     "end_time": "2025-02-07T18:27:49.754387Z",
     "start_time": "2025-02-07T18:27:49.731823Z"
    }
   },
   "execution_count": 7
  },
  {
   "cell_type": "markdown",
   "source": [
    "## Creating the Binary Target:\n",
    "Compute the average house price per unit area from the training set and convert the target to binary (1 if above average, 0 if below average)."
   ],
   "metadata": {
    "collapsed": false
   }
  },
  {
   "cell_type": "code",
   "execution_count": 8,
   "outputs": [
    {
     "name": "stdout",
     "output_type": "stream",
     "text": [
      "Threshold: Y house price of unit area    38.391541\n",
      "dtype: float64\n",
      "Binary distribution in training set:\n",
      "Y house price of unit area\n",
      "1                             174\n",
      "0                             157\n",
      "Name: count, dtype: int64\n"
     ]
    }
   ],
   "source": [
    "# Calculate the threshold from training targets\n",
    "threshold = y_train.mean()\n",
    "\n",
    "# Convert continuous target to binary: 1 if above threshold, 0 otherwise\n",
    "y_train_binary = (y_train > threshold).astype(int)\n",
    "y_test_binary  = (y_test > threshold).astype(int)\n",
    "\n",
    "print(\"Threshold:\", threshold)\n",
    "print(\"Binary distribution in training set:\")\n",
    "print(y_train_binary.value_counts())\n"
   ],
   "metadata": {
    "collapsed": false
   }
  },
  {
   "cell_type": "markdown",
   "source": [
    "## Data standardization"
   ],
   "metadata": {
    "collapsed": false
   }
  },
  {
   "cell_type": "code",
   "execution_count": 16,
   "outputs": [
    {
     "name": "stdout",
     "output_type": "stream",
     "text": [
      "   X1 transaction date  X2 house age  X3 distance to the nearest MRT station  \\\n",
      "0             0.001128      2.344015                               -0.823965   \n",
      "1             0.296351     -0.821281                                0.951418   \n",
      "2            -1.777321     -0.900856                                0.917224   \n",
      "3            -0.297651      1.707419                               -0.469361   \n",
      "4             0.890353     -0.865489                               -0.345357   \n",
      "\n",
      "   X4 number of convenience stores  X5 latitude  X6 longitude  \n",
      "0                         0.968042    -0.147066      0.455057  \n",
      "1                        -0.049170    -0.743117     -1.355926  \n",
      "2                        -0.388241    -0.504055     -1.427483  \n",
      "3                         1.307112     0.065523      0.739277  \n",
      "4                         0.289900     0.260463      0.953278  \n"
     ]
    }
   ],
   "source": [
    "from sklearn.preprocessing import StandardScaler\n",
    "\n",
    "scaler = StandardScaler()\n",
    "X_train_scaled = scaler.fit_transform(X_train)\n",
    "X_test_scaled  = scaler.transform(X_test)\n",
    "\n",
    "X_train_scaled_df = pd.DataFrame(X_train_scaled, columns=X.columns)\n",
    "print(X_train_scaled_df.head())"
   ],
   "metadata": {
    "collapsed": false
   }
  },
  {
   "cell_type": "markdown",
   "source": [
    "## Modeling"
   ],
   "metadata": {
    "collapsed": false
   }
  },
  {
   "cell_type": "markdown",
   "source": [
    "### Linear regression model\n",
    "\n",
    "model = LinearRegression()\n",
    "Linear Regresion model is used to predict the numerical values of the housing prices.\n",
    "\n",
    "model.fit(X_train, y_train)\n",
    "The model is trained with the predetermined training data.\n",
    "\n",
    "y_pred = model.predict(X_test)\n",
    "The test data is then fed to the model to predict the numerical values prices of the houses.\n",
    "\n",
    "rmse = np.sqrt(mean_squared_error(y_test, y_pred))\n",
    "Root Mean Squared Error (RMSE) is a common metric that evaluates the performance of the linear regression model.\n",
    "\n",
    "r2 = r2_score(y_test, y_pred)\n",
    "R² score is another common metric that evaluates performance of linear regression model.\n",
    "\n",
    "plt.scatter(y_test, y_pred, alpha=0.5, color='cyan')\n",
    "plt.xlabel(\"Actual House Price per Unit Area\")\n",
    "plt.ylabel(\"Predicted House Price per Unit Area\")\n",
    "plt.title(\"Actual vs Predicted House Prices\")\n",
    "plt.plot([min(y_test.values), max(y_test.values)], [min(y_test.values), max(y_test.values)], color='red', linestyle='dashed')  # Reference Line\n",
    "plt.show()\n",
    "\n",
    "This creates the diagram to easily view the model's performance."
   ],
   "metadata": {
    "collapsed": false
   }
  },
  {
   "cell_type": "code",
   "execution_count": 10,
   "outputs": [
    {
     "name": "stdout",
     "output_type": "stream",
     "text": [
      "Root Mean Squared Error (RMSE): 7.31\n",
      "R² Score: 0.6811\n"
     ]
    },
    {
     "data": {
      "text/plain": "<Figure size 640x480 with 1 Axes>",
      "image/png": "[encoded data removed]"
     },
     "metadata": {},
     "output_type": "display_data"
    }
   ],
   "source": [
    "from sklearn.linear_model import LinearRegression\n",
    "\n",
    "model = LinearRegression()\n",
    "model.fit(X_train, y_train)\n",
    "\n",
    "y_pred = model.predict(X_test)\n",
    "\n",
    "rmse = np.sqrt(mean_squared_error(y_test, y_pred))\n",
    "r2 = r2_score(y_test, y_pred)\n",
    "\n",
    "print(f\"Root Mean Squared Error (RMSE): {rmse:.2f}\")\n",
    "print(f\"R² Score: {r2:.4f}\")\n",
    "\n",
    "plt.scatter(y_test, y_pred, alpha=0.5, color='cyan')\n",
    "plt.xlabel(\"Actual House Price per Unit Area\")\n",
    "plt.ylabel(\"Predicted House Price per Unit Area\")\n",
    "plt.title(\"Actual vs Predicted House Prices\")\n",
    "plt.plot([min(y_test.values), max(y_test.values)], [min(y_test.values), max(y_test.values)], color='red', linestyle='dashed')  # Reference Line\n",
    "plt.show()"
   ],
   "metadata": {
    "collapsed": false,
    "ExecuteTime": {
     "end_time": "2025-02-07T18:27:49.754521Z",
     "start_time": "2025-02-07T18:27:49.733707Z"
    }
   }
  },
  {
   "cell_type": "markdown",
   "source": [
    "### Logistic regression model\n",
    "- **random_state=42**: Ensures reproducibility of the results.\n",
    "- An instance of LogisticRegression is created with a specified random state for reproducibility.\n",
    "- The model is trained using the scaled training data **X_train_scaled** and the binary target variable **y_train_binary**.\n",
    "- The coefficients of the trained model are retrieved, representing the importance of each feature.\n",
    "- A DataFrame is created to pair each feature name with its coefficient and is sorted in descending order based on the coefficient values.\n"
   ],
   "metadata": {
    "collapsed": false
   }
  },
  {
   "cell_type": "code",
   "execution_count": 13,
   "outputs": [
    {
     "name": "stdout",
     "output_type": "stream",
     "text": [
      "Coefficients:  [[ 0.23384218 -0.60812729 -2.33203175  0.55145938  0.94555496 -0.14130285]]\n",
      "Intercept:  [-0.52367405]\n"
     ]
    }
   ],
   "source": [
    "from sklearn.linear_model import LogisticRegression\n",
    "\n",
    "# Build the logistic regression model\n",
    "reg = LogisticRegression(solver='lbfgs', random_state=42)\n",
    "reg.fit(X_train_scaled, y_train_binary.values.ravel())\n",
    "\n",
    "\n",
    "# Retrieve coefficients (and intercept)\n",
    "print(\"Coefficients: \", reg.coef_)\n",
    "print(\"Intercept: \", reg.intercept_)"
   ],
   "metadata": {
    "collapsed": false
   }
  },
  {
   "cell_type": "markdown",
   "source": [
    "**Coefficients**: The coefficients represent the relationship between each feature and the target variable.\n",
    "- **Positive Coefficients**: Features with positive coefficients indicate that as the value of these features increases, the likelihood of the house price being above the average (threshold) also increases. In other words, these features contribute to higher house prices.\n",
    "- **Negative Coefficients**: Features with negative coefficients indicate that as the value of these features increases, the likelihood of the house price being above the average (threshold) decreases. In other words, these features contribute to lower house prices.\n",
    "\n",
    "**Intercept**: The intercept is the value of the target variable when all feature values are zero. It represents the baseline level of the target variable in the absence of any feature influence."
   ],
   "metadata": {
    "collapsed": false
   }
  },
  {
   "cell_type": "markdown",
   "source": [
    "## Evaluation\n",
    "- The fifth phase is to evaluate the model.\n",
    "- How well does the model perform?\n",
    "- Does it meet the business requirements?\n",
    "- Logistic regression:\n",
    "    -- Predict test data\n",
    "    -- calculate evaluation metrics\n",
    "    -- confusion matrix\n",
    "    -- permutation importance\n"
   ],
   "metadata": {
    "collapsed": false
   }
  },
  {
   "cell_type": "code",
   "execution_count": null,
   "outputs": [],
   "source": [],
   "metadata": {
    "collapsed": false,
    "ExecuteTime": {
     "end_time": "2025-02-07T18:27:49.754650Z",
     "start_time": "2025-02-07T18:27:49.735622Z"
    }
   }
  },
  {
   "cell_type": "markdown",
   "source": [
    "## Deployment\n",
    "- The final phase is to deploy the model.\n",
    "- How will the model be used in practice?\n",
    "- How will the results be communicated?\n",
    "- This phase may involve creating a recommendation of how to use the model in practice, or what to do next."
   ],
   "metadata": {
    "collapsed": false
   }
  },
  {
   "cell_type": "code",
   "execution_count": null,
   "outputs": [],
   "source": [],
   "metadata": {
    "collapsed": false,
    "ExecuteTime": {
     "end_time": "2025-02-07T18:27:49.754866Z",
     "start_time": "2025-02-07T18:27:49.737419Z"
    }
   }
  }
 ],
 "metadata": {
  "kernelspec": {
   "display_name": "Python 3",
   "language": "python",
   "name": "python3"
  },
  "language_info": {
   "codemirror_mode": {
    "name": "ipython",
    "version": 2
   },
   "file_extension": ".py",
   "mimetype": "text/x-python",
   "name": "python",
   "nbconvert_exporter": "python",
   "pygments_lexer": "ipython2",
   "version": "2.7.6"
  }
 },
 "nbformat": 4,
 "nbformat_minor": 0
}
